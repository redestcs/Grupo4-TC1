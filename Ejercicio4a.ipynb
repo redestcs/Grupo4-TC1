{
 "cells": [
  {
   "cell_type": "markdown",
   "metadata": {},
   "source": [
    "# Trabajo Computacional 1. Ejercicio 4.a (i-iv)\n"
   ]
  },
  {
   "cell_type": "markdown",
   "metadata": {},
   "source": [
    "**4)** Asortatividad"
   ]
  },
  {
   "cell_type": "markdown",
   "metadata": {},
   "source": [
    "*a.* Considere la red de colaboraciones científicas (*netscience.gml*) y la red de internet (*as-july06.gml*). Analice si nodos de alto grado tienden a conectarse con nodos de alto grado o por el contrario suelen conectarse a nodos de bajo grado? (i.e la red es asortativa o disortativa respecto al grado?). Para ello:"
   ]
  },
  {
   "cell_type": "markdown",
   "metadata": {},
   "source": [
    "*i.* Determine, para nodos de grado k, cuánto vale en media el grado de sus vecinos."
   ]
  },
  {
   "cell_type": "code",
   "execution_count": 41,
   "metadata": {},
   "outputs": [],
   "source": [
    "import numpy as np\n",
    "import networkx as nx\n",
    "import matplotlib.pyplot as plt\n",
    "import pandas as pd\n",
    "import scipy as sc\n",
    "from scipy import stats\n",
    "import math\n",
    "from scipy import optimize\n"
   ]
  },
  {
   "cell_type": "code",
   "execution_count": 14,
   "metadata": {},
   "outputs": [],
   "source": [
    "H=nx.read_gml(\"data/netscience.gml\")\n",
    "G=nx.read_gml(\"data/as-22july06.gml\")"
   ]
  },
  {
   "cell_type": "markdown",
   "metadata": {},
   "source": [
    "Para determinar el grado medio de los vecinos de un dado nodo de cada red, se trabajó con una función definida sobre la variable Grafo, permitiendo calcularlo para cada red. Primero creamos dos funciones que usaremos en la función principal: la primera creará una lista que contenga la información [Grado del nodo i, nodo i] para todos los nodos de la red; la segunda da el grado máximo en cada red, esto permitirá hacer un barrido en los grados de la red para la función principal."
   ]
  },
  {
   "cell_type": "code",
   "execution_count": 15,
   "metadata": {},
   "outputs": [],
   "source": [
    "def NodoGrado(Grafo):\n",
    "    Nodos=[] #lista con grado-nodo\n",
    "    for n in Grafo.nodes():\n",
    "        Nodos.append([nx.degree(Grafo,n),n])\n",
    "    sorted(Nodos)\n",
    "    return Nodos \n",
    "\n",
    "def K_max(Grafo):\n",
    "    K=[]\n",
    "    for n in NodoGrado(Grafo):\n",
    "       K.append(n[0])\n",
    "    K_max=max(K)\n",
    "    return K_max #devuelve el grado maximo de la red "
   ]
  },
  {
   "cell_type": "markdown",
   "metadata": {},
   "source": [
    "La función principal **k_vec(Grafo)** consiste en primero calcular los vecinos para cada nodo de la lista creada en la función NodoGrado, luego se infirió el grado de los vecinos y se formó una lista con esos valores. Luego se promedió los valores de los vecinos para cada nodo, teniendo en cuenta que podría no tener vecinos. Luego se recorren todos los grados hasta el máximo de cada red y se promedia el valor de los vecinos para los nodos con ese grado, se tiene en cuenta que puede haber valores contemplados en el barrido que no sean grados de la red. La función genera dos listas, una que da grado k y la otra con el grado promedio de los vecinos para el grado k."
   ]
  },
  {
   "cell_type": "code",
   "execution_count": 16,
   "metadata": {},
   "outputs": [],
   "source": [
    "def k_vec(Grafo):\n",
    "    Grado_GradoPromVec=[]\n",
    "    for n in NodoGrado(Grafo): #NodoGrado devuelve lista con con grado-nodo ordenada de menor a mayor grado \n",
    "        Vecinos=nx.all_neighbors(Grafo,n[1]) #me devuelve todos los vecinos del nodo n[1]\n",
    "        K=nx.degree(Grafo,Vecinos)\n",
    "        k_vecinos=[]\n",
    "        for i in K:\n",
    "            k_vecinos.append(i[1])\n",
    "        if len(K)!=0: #si el nodo tiene vecinos \n",
    "            k_vecinos_promedio=sum(k_vecinos)/len(K)\n",
    "        else:\n",
    "            k_vecinos_promedio=0 #si el nodo no tiene vecinos\n",
    "        Grado_GradoPromVec.append([n[0],k_vecinos_promedio]) #Grado_GradoPromVec es una lista de listas con el grado de un nodo y el promedio del grado de sus correspondientes vecinos \n",
    "    k_nn=[]\n",
    "    k=[]\n",
    "    for i in range(1,K_max(Grafo)+1):\n",
    "        a=0\n",
    "        b=0\n",
    "        for n in Grado_GradoPromVec: #Grado_GradoPromVec tiene grado de un nodo Y el promedio del grado de sus vecinos \n",
    "            if n[0]==i:\n",
    "                a+=1 #cuento el numero de nodos con un determinado grado k\n",
    "                b+=n[1] #sumo para nodos de un mismo k, el promedio del grado de sus vecinos \n",
    "        if a!=0: #si existen nodos con el grado i (si a es distinto de cero)\n",
    "            k_nn.append(b/a) #tiene el promedio sobre todos los nodos de grado k del promedio del grado de los vecinos de cada nodo \n",
    "            k.append(i) # i es grado, a cada i le corresponde un elemento de k_nn\n",
    "    return k,k_nn"
   ]
  },
  {
   "cell_type": "markdown",
   "metadata": {},
   "source": [
    "Se corre la función **k_vec** para las dos redes:"
   ]
  },
  {
   "cell_type": "code",
   "execution_count": 17,
   "metadata": {},
   "outputs": [],
   "source": [
    "F1=k_vec(H) #red NetScience\n",
    "F2=k_vec(G) #red Internet "
   ]
  },
  {
   "cell_type": "markdown",
   "metadata": {},
   "source": [
    "*ii.*Analizar la tendencia observada en un gráfico que consigne dicho valor $k_{nn}(k)$ como función del grado."
   ]
  },
  {
   "cell_type": "code",
   "execution_count": 40,
   "metadata": {
    "scrolled": false
   },
   "outputs": [
    {
     "data": {
      "image/png": "[encoded data removed]",
      "text/plain": [
       "<Figure size 432x288 with 1 Axes>"
      ]
     },
     "metadata": {},
     "output_type": "display_data"
    },
    {
     "data": {
      "image/png": "[encoded data removed]",
      "text/plain": [
       "<Figure size 432x288 with 1 Axes>"
      ]
     },
     "metadata": {},
     "output_type": "display_data"
    }
   ],
   "source": [
    "plt.scatter(F2[0],F2[1])\n",
    "plt.ylabel(\"$k_{nn}$(k)\")\n",
    "plt.xlabel(\"Grado\")\n",
    "plt.title('Grado de los vecinos para red Internet')\n",
    "plt.xscale('log')\n",
    "plt.yscale('log')\n",
    "plt.show()\n",
    "plt.title('Grado de los vecinos para red NetScience')\n",
    "plt.xscale('log')\n",
    "plt.yscale('log')\n",
    "plt.ylabel(\"$k_{nn}$(k)\")\n",
    "plt.xlabel(\"Grado\")\n",
    "plt.scatter(F1[0],F1[1])\n",
    "plt.show()"
   ]
  },
  {
   "cell_type": "markdown",
   "metadata": {},
   "source": [
    "Pareciera haber una tendencia lineal en ambos gráficos log-log. El primero (*Internet*) pareciera corresponder a una ley de potencias por ejemplo (lineal decreciente en escala logarítmica), si bien hay mucha dispersión en los valores centrales. En la red NetScience se observa un comportamiento lineal creciente (escala log) hasta aproximadamente $10^1$ en la escala x. Después de ese valor se deja de ver el comportamiento lineal y eso se puede deber a que esos puntos corresponden a los hubs, los cuales no son muchos, por lo que no se puede hacer estadistica sobre ellos. "
   ]
  },
  {
   "cell_type": "markdown",
   "metadata": {},
   "source": [
    "*iii.* Asumiendo que $𝑘_{𝑛𝑛}(𝑘)=𝑎𝑘^𝜇$, estime el exponente de correlación a partir de realizar una regresión de log$𝑘_{𝑛𝑛}$~log𝑘. Asegurese de graficar el fiteo en el grafico anterior."
   ]
  },
  {
   "cell_type": "markdown",
   "metadata": {},
   "source": [
    "Trabajaremos con la red *Internet* que es la que pareciera que corresponde a una ley de potencias. Se estimó el tamaño de la lista de grados presentes en la red para poder hacer un barrido y tomar el logaritmo de los datos y así ajustar por una lineal."
   ]
  },
  {
   "cell_type": "code",
   "execution_count": 21,
   "metadata": {},
   "outputs": [
    {
     "data": {
      "text/plain": [
       "161"
      ]
     },
     "execution_count": 21,
     "metadata": {},
     "output_type": "execute_result"
    }
   ],
   "source": [
    "len(F2[0])  #F2[0] era la lista con los grados presentes en la red Internet"
   ]
  },
  {
   "cell_type": "code",
   "execution_count": 22,
   "metadata": {},
   "outputs": [
    {
     "name": "stdout",
     "output_type": "stream",
     "text": [
      "2 0.6931471805599453\n"
     ]
    }
   ],
   "source": [
    "b=161\n",
    "F2logx=[]\n",
    "for i in range(b):\n",
    "    a=math.log(F2[0][i]) #le tomo logaritmo (EN BASE e) a cada elemento de la lista de grados=F2[0]\n",
    "    F2logx.append(a)\n",
    "    \n",
    "print(F2[0][1],F2logx[1]) #chequeo que sea el logaritmo efectivamente\n",
    "\n",
    "F2logy=[]\n",
    "for j in range(b):\n",
    "    A=math.log(F2[1][j]) #le tomo logaritmo (EN BASE e) a cada elemento de la lista de k_nn=F2[1]\n",
    "    F2logy.append(A)\n",
    "    "
   ]
  },
  {
   "cell_type": "markdown",
   "metadata": {},
   "source": [
    "Ahora se trabaja con las nuevas listas de datos. Se calcula la regresión lineal y se registra la ordenada al origen y la pendiente."
   ]
  },
  {
   "cell_type": "code",
   "execution_count": 23,
   "metadata": {},
   "outputs": [
    {
     "name": "stdout",
     "output_type": "stream",
     "text": [
      "LinregressResult(slope=-0.444173551673417, intercept=6.327624965083439, rvalue=-0.6597397256731451, pvalue=1.7779776263191163e-21, stderr=0.04012426735752965)\n"
     ]
    }
   ],
   "source": [
    "reg=sc.stats.linregress(F2logx,F2logy)\n",
    "print(reg)\n"
   ]
  },
  {
   "cell_type": "markdown",
   "metadata": {},
   "source": [
    "El intercept=6.327624965083438 está relacionado con la constante de la ley de potencias (es *e* elevado a la ordenada al origen), la slope=-0.4441735516734168 es el exponente de la ley de potencias."
   ]
  },
  {
   "cell_type": "code",
   "execution_count": 39,
   "metadata": {},
   "outputs": [
    {
     "data": {
      "image/png": "[encoded data removed]",
      "text/plain": [
       "<Figure size 432x288 with 1 Axes>"
      ]
     },
     "metadata": {},
     "output_type": "display_data"
    }
   ],
   "source": [
    "X=np.arange(1,3000,100)\n",
    "\n",
    "plt.scatter(F2[0],F2[1], color='black') #datos de la red Internet en escala log\n",
    "plt.xscale('log')\n",
    "plt.yscale('log')\n",
    "plt.plot(X,(X**-0.444173551673417)* math.e**6.327624965083439, lw=4)#ajuste con los parametros de la regresion lineal \n",
    "plt.title('Grado de los vecinos para red Internet y ajuste por regresión lineal')\n",
    "plt.ylabel(\"$k_{nn}$(k)\")\n",
    "plt.xlabel(\"Grado\")\n",
    "plt.show()"
   ]
  },
  {
   "cell_type": "markdown",
   "metadata": {},
   "source": [
    "Probemos hacer el ajuste con cuadrados mínimos:"
   ]
  },
  {
   "cell_type": "code",
   "execution_count": 25,
   "metadata": {},
   "outputs": [],
   "source": [
    "def fiteadora(p,x):\n",
    "    return p[0]+p[1]*x\n",
    "\n",
    "def error(p,x,y):\n",
    "    return fiteadora(p,x)-y"
   ]
  },
  {
   "cell_type": "code",
   "execution_count": 26,
   "metadata": {},
   "outputs": [
    {
     "data": {
      "text/plain": [
       "array([ 6.32762496, -0.44417355])"
      ]
     },
     "execution_count": 26,
     "metadata": {},
     "output_type": "execute_result"
    }
   ],
   "source": [
    "P_ini=[6,-0.4]\n",
    "\n",
    "out= optimize.leastsq(error,P_ini,args=(np.array(F2logx), np.array(F2logy)),full_output=1)\n",
    "pfinal = out[0]\n",
    "covar = out[1]\n",
    "p0err=np.sqrt( covar[0][0] )\n",
    "p1err= np.sqrt( covar[1][1] )\n",
    "\n",
    "pfinal  #valores del ajuste"
   ]
  },
  {
   "cell_type": "markdown",
   "metadata": {},
   "source": [
    "De la regresión lineal habíamos obtenido: *slope*=-0.4441735516734168, *intercept*=6.327624965083438, que coinciden con los entregados por el ajuste por cuadradados mínimos. De todas formas el ajuste no pareciera ser el esperado, debido a la nube de puntos alrededor de $10^2$. Se intentará asignarle un error a los puntos que esté asociado con la distancia al ajuste anterior, para poder ajustar nuevamente, entendiendo que el nuevo ajuste prioriza a los puntos con menor error."
   ]
  },
  {
   "cell_type": "code",
   "execution_count": 27,
   "metadata": {},
   "outputs": [],
   "source": [
    "def error_y(p,x,y):\n",
    "    return (fiteadora(p,x)-y)**2\n",
    "def error_ajuste(p,x,y,err):\n",
    "    return (fiteadora(p,x)-y)/err # Asigno un error para tener en cuenta a la hora de ajustar. \n",
    "                                  #El ajuste prioriza a los puntos con menos error"
   ]
  },
  {
   "cell_type": "code",
   "execution_count": 28,
   "metadata": {},
   "outputs": [],
   "source": [
    "yerror=error_y(pfinal,np.array(F2logx),np.array(F2logy))\n"
   ]
  },
  {
   "cell_type": "code",
   "execution_count": 37,
   "metadata": {},
   "outputs": [
    {
     "name": "stdout",
     "output_type": "stream",
     "text": [
      "[ 6.30551697 -0.43835336]\n"
     ]
    }
   ],
   "source": [
    "salida=optimize.leastsq(error_ajuste,P_ini,args=(np.array(F2logx), np.array(F2logy),yerror),full_output=1)\n",
    "pfinal_op = salida[0]\n",
    "covar_op= salida[1]\n",
    "p0err_op=np.sqrt( covar[0][0] )\n",
    "p1err_op= np.sqrt( covar[1][1] )\n",
    "print(pfinal_op)"
   ]
  },
  {
   "cell_type": "code",
   "execution_count": 38,
   "metadata": {},
   "outputs": [
    {
     "data": {
      "image/png": "[encoded data removed]",
      "text/plain": [
       "<Figure size 432x288 with 1 Axes>"
      ]
     },
     "metadata": {},
     "output_type": "display_data"
    }
   ],
   "source": [
    "plt.scatter(F2[0],F2[1], color='black')\n",
    "plt.errorbar(F2[0], F2[1], yerr=yerror, fmt='k.')\n",
    "plt.xscale('log')\n",
    "plt.yscale('log')\n",
    "plt.plot(F2[0],(F2[0]**pfinal_op[1])* math.e**pfinal_op[0],c=\"r\" ,lw=5, label=\"Ajuste pesando errores\")\n",
    "plt.plot(X,(X**-0.444173551673417)* math.e**6.327624965083439, lw=2,label=\"Ajuste por cuadrados mínimos\")\n",
    "plt.ylabel(\"$k_{nn}$(k)\")\n",
    "plt.xlabel(\"Grado\")\n",
    "plt.title(\"Grado de los vecinos y ajustes\")\n",
    "plt.legend()\n",
    "plt.show()"
   ]
  },
  {
   "cell_type": "code",
   "execution_count": 44,
   "metadata": {},
   "outputs": [
    {
     "data": {
      "text/html": [
       "<div>\n",
       "<style scoped>\n",
       "    .dataframe tbody tr th:only-of-type {\n",
       "        vertical-align: middle;\n",
       "    }\n",
       "\n",
       "    .dataframe tbody tr th {\n",
       "        vertical-align: top;\n",
       "    }\n",
       "\n",
       "    .dataframe thead th {\n",
       "        text-align: right;\n",
       "    }\n",
       "</style>\n",
       "<table border=\"1\" class=\"dataframe\">\n",
       "  <thead>\n",
       "    <tr style=\"text-align: right;\">\n",
       "      <th></th>\n",
       "      <th>Ajuste</th>\n",
       "      <th>Regresión lineal</th>\n",
       "      <th>Cuadrados mínimos</th>\n",
       "      <th>Con peso de errores</th>\n",
       "    </tr>\n",
       "  </thead>\n",
       "  <tbody>\n",
       "    <tr>\n",
       "      <th>0</th>\n",
       "      <td>Pendiente</td>\n",
       "      <td>-0.444174</td>\n",
       "      <td>-0.444174</td>\n",
       "      <td>-0.438353</td>\n",
       "    </tr>\n",
       "    <tr>\n",
       "      <th>1</th>\n",
       "      <td>Ordenada al origen</td>\n",
       "      <td>6.327625</td>\n",
       "      <td>6.327625</td>\n",
       "      <td>6.305517</td>\n",
       "    </tr>\n",
       "  </tbody>\n",
       "</table>\n",
       "</div>"
      ],
      "text/plain": [
       "               Ajuste  Regresión lineal  Cuadrados mínimos  \\\n",
       "0           Pendiente         -0.444174          -0.444174   \n",
       "1  Ordenada al origen          6.327625           6.327625   \n",
       "\n",
       "   Con peso de errores  \n",
       "0            -0.438353  \n",
       "1             6.305517  "
      ]
     },
     "execution_count": 44,
     "metadata": {},
     "output_type": "execute_result"
    }
   ],
   "source": [
    "data = pd.DataFrame({\"Ajuste\":[\"Pendiente\",\"Ordenada al origen\"],\"Regresión lineal\":[-0.444173551673417,6.327624965083439],\n",
    "                     \"Cuadrados mínimos\":[-0.44417355,6.32762496],\n",
    "                     \"Con peso de errores\":[-0.43835336,6.30551697]\n",
    "                                        })#empty dataframe\n",
    "data"
   ]
  },
  {
   "cell_type": "markdown",
   "metadata": {},
   "source": [
    "Si bien hay diferencias al pesar el error, no resultan significativas. Se podría trabajar de forma iterativa utilizando el nuevo promedio para asignar nuevos errores, sin embargo lo que se buscaba corregir es aumentar la pendiente-en módulo- y al pesar errores se disminuye. La pregunta es si tiene sentido aumentar la pendiente -lo que pareciera ser ajustar los puntos por fuera de la nube- y cómo se podría asignar un error para que eso suceda."
   ]
  },
  {
   "cell_type": "markdown",
   "metadata": {},
   "source": [
    "**iv.** Encuentre\n",
    "cuantitativamente la asortatividad de la red utilizando ahora el estimador\n",
    "propuesto por Newman: **r**"
   ]
  },
  {
   "cell_type": "code",
   "execution_count": 47,
   "metadata": {},
   "outputs": [],
   "source": [
    "def r(Grafo):\n",
    "    Enlaces_k=[]     #Lista de enlaces que también incluye los generos de los nodos del enlace              \n",
    "    for n in Grafo.edges:\n",
    "        Enlaces_k.append([n[0],Grafo.degree(n[0]),n[1],Grafo.degree(n[1])])\n",
    "    se=[]\n",
    "    for n in Enlaces_k:\n",
    "        se.append(n[1]*n[3])\n",
    "    Se=2*sum(se)\n",
    "    \n",
    "    s1=[]\n",
    "    for i in NodoGrado(Grafo):\n",
    "        s1.append(i[0])\n",
    "    S1=sum(s1)\n",
    "        \n",
    "    s2=[]\n",
    "    for j in NodoGrado(Grafo):\n",
    "        s2.append(j[0]**2)\n",
    "    S2=sum(s2)\n",
    "    \n",
    "    s3=[]\n",
    "    for h in NodoGrado(Grafo):\n",
    "        s3.append(h[0]**3)\n",
    "    S3=sum(s3)\n",
    "    \n",
    "    return (S1*Se-S2**2)/(S1*S3-S2**2)"
   ]
  },
  {
   "cell_type": "markdown",
   "metadata": {},
   "source": [
    "Calculamos el estimador de asortatividad r para las dos redes:"
   ]
  },
  {
   "cell_type": "code",
   "execution_count": 48,
   "metadata": {},
   "outputs": [
    {
     "name": "stdout",
     "output_type": "stream",
     "text": [
      "0.4616224667525835 -0.19838487512056477\n"
     ]
    }
   ],
   "source": [
    "r_H=r(H) #red NetScience\n",
    "r_G=r(G) #red Internet \n",
    "print(r_H,r_G)"
   ]
  },
  {
   "cell_type": "markdown",
   "metadata": {},
   "source": [
    "Para la red Internet el estimador **r** es negativo, lo que denota disasortatividad en la variable grado, es decir, que nodos de alto grado en promedio no se enlazan con nodos de alto grado, y lo mismo para nodos de bajo grado. En cambio, para la red *NetScience* **r** es positivo, dando la idea de que existe una tendencia asortativa en la variable grado."
   ]
  },
  {
   "cell_type": "markdown",
   "metadata": {},
   "source": [
    "Dadas las dos medidas de asortatividad, es decir, el exponente $𝜇$ de la ley de potencias $𝑘_{𝑛𝑛}(𝑘)=𝑎𝑘^𝜇$ propuesto por  Barabási y el estimador **r** de Newman (proveniente de proponer $𝑘_{𝑛𝑛}(𝑘)\\sim r𝑘$); nos parece más representativo para las redes estudiadas la medida de Barabási. Esto es así ya que en las redes analizadas $𝑘_{𝑛𝑛}(𝑘)$ presentaba un comportamiento de ley de potencias y no lineal. Por lo que para estimar la asortatividad corresponde utilizar su correspondiente medida que esté asociada a un $𝑘_{𝑛𝑛}(𝑘)$ modelado por una ley de potencias y no una lineal, es decir, la medida de asortatividad $𝜇$ de Barabási. Sin embargo, los valores de r para las dos redes estudiadas hablan del mismo tipo de fenómeno de asortatividad que la medida $𝜇$ de Barabási. En otras palabras, ambos, la medida de Barabási y la de Newman, hablan de una red asortativa en grado en el caso de la red NetScience, y disasortativa en el caso de la red Internet. \n",
    "\n"
   ]
  }
 ],
 "metadata": {
  "kernelspec": {
   "display_name": "Python 3",
   "language": "python",
   "name": "python3"
  },
  "language_info": {
   "codemirror_mode": {
    "name": "ipython",
    "version": 3
   },
   "file_extension": ".py",
   "mimetype": "text/x-python",
   "name": "python",
   "nbconvert_exporter": "python",
   "pygments_lexer": "ipython3",
   "version": "3.6.5"
  }
 },
 "nbformat": 4,
 "nbformat_minor": 2
}
